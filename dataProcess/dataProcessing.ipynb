{
 "cells": [
  {
   "cell_type": "code",
   "execution_count": 1,
   "metadata": {},
   "outputs": [],
   "source": [
    "#coding=utf-8\n",
    "'''\n",
    "    FileName      ：dataProcessing.ipynb\n",
    "    Author        ：@zch0423\n",
    "    Date          ：Jun 25, 2021\n",
    "    Description   ：\n",
    "'''\n",
    "import os\n",
    "import re\n",
    "import pandas as pd"
   ]
  },
  {
   "cell_type": "code",
   "execution_count": 50,
   "metadata": {},
   "outputs": [],
   "source": [
    "def process(inFile, outFile):\n",
    "    '''\n",
    "    @Description\n",
    "    取均值\n",
    "    ------------\n",
    "    @Params\n",
    "    inFile, str\n",
    "    outFile, str\n",
    "    '''\n",
    "    data = pd.read_csv(inFile)\n",
    "    data = data[[\"whoTarget\", \"intentYN\", \"sexYN\", \"offensiveYN\", \"post\"]]\n",
    "    posts = []\n",
    "    for row in data.itertuples():\n",
    "        post = row[5]\n",
    "        posts.append(\" \".join(re.sub(r\"[^\\w]\", \" \", post.lower()).split()))\n",
    "    data[\"post\"] = posts\n",
    "    data = data.groupby([\"post\"]).mean()\n",
    "    data.reset_index(inplace=True)\n",
    "    data = data.reindex(columns=[\"whoTarget\", \"intentYN\", \"sexYN\", \"offensiveYN\", \"post\"])\n",
    "    data.to_csv(outFile)\n",
    "    return data"
   ]
  },
  {
   "cell_type": "code",
   "execution_count": 51,
   "metadata": {},
   "outputs": [
    {
     "name": "stdout",
     "output_type": "stream",
     "text": [
      "SBIC.v2.tst.csv 4696\n",
      "SBIC.v2.dev.csv 4671\n",
      "SBIC.v2.trn.csv 35379\n"
     ]
    }
   ],
   "source": [
    "dirPath = \"rawData\"\n",
    "with os.scandir(dirPath) as it:\n",
    "    for entry in it:\n",
    "        if not entry.name.endswith(\"csv\"):\n",
    "            continue\n",
    "        data = process(entry.path, \"data/\"+entry.name)\n",
    "        print(entry.name, len(data))"
   ]
  },
  {
   "cell_type": "code",
   "execution_count": 10,
   "metadata": {},
   "outputs": [],
   "source": [
    "path = \"/Users/zch/Desktop/IM319_NLP.nosync/project/rawData/raw/SBIC.v2.dev.csv\"\n",
    "data = pd.read_csv(path)"
   ]
  },
  {
   "cell_type": "code",
   "execution_count": 11,
   "metadata": {},
   "outputs": [],
   "source": [
    "data = data[[\"whoTarget\", \"intentYN\", \"sexYN\", \"offensiveYN\", \"post\"]]\n",
    "posts = []\n",
    "for row in data.itertuples():\n",
    "    post = row[5]\n",
    "    posts.append(\" \".join(re.sub(r\"[^\\w]\", \" \", post.lower()).split()))\n",
    "data[\"post\"] = posts"
   ]
  },
  {
   "source": [],
   "cell_type": "markdown",
   "metadata": {}
  }
 ],
 "metadata": {
  "kernelspec": {
   "display_name": "tf2",
   "language": "python",
   "name": "tf2"
  },
  "language_info": {
   "codemirror_mode": {
    "name": "ipython",
    "version": 3
   },
   "file_extension": ".py",
   "mimetype": "text/x-python",
   "name": "python",
   "nbconvert_exporter": "python",
   "pygments_lexer": "ipython3",
   "version": "3.9.1"
  },
  "metadata": {
   "interpreter": {
    "hash": "bbee7842ce8ba476870a006d5d5b68f11cea175afb0fea017b7f81beccf88892"
   }
  }
 },
 "nbformat": 4,
 "nbformat_minor": 2
}