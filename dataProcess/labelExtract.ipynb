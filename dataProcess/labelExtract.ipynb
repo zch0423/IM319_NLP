{
 "cells": [
  {
   "cell_type": "code",
   "execution_count": 2,
   "id": "14a039dd",
   "metadata": {},
   "outputs": [],
   "source": [
    "#coding=utf-8\n",
    "'''\n",
    "    FileName      ：labelExtract.ipynb\n",
    "    Author        ：@zch0423\n",
    "    Date          ：Jun 25, 2021\n",
    "    Description   ：\n",
    "    提取标签\n",
    "'''\n",
    "import pandas as pd\n",
    "import numpy as np"
   ]
  },
  {
   "cell_type": "code",
   "execution_count": 3,
   "id": "05ea5606",
   "metadata": {},
   "outputs": [],
   "source": [
    "dir_path = \"/Users/zch/Desktop/IM319_NLP.nosync/project/rawData/preprocessed/\"\n",
    "out_path = \"/Users/zch/Desktop/IM319_NLP.nosync/project/data/labels/\"\n",
    "files = [\"SBIC.v2.dev.csv\", \"SBIC.v2.trn.csv\", \"SBIC.v2.tst.csv\"]\n",
    "types = [\"dev\", \"trn\", \"tst\"]"
   ]
  },
  {
   "cell_type": "code",
   "execution_count": 4,
   "id": "67a43b05",
   "metadata": {},
   "outputs": [],
   "source": [
    "for t, file in zip(types, files):\n",
    "    data = pd.read_csv(dir_path+file, index_col=0)\n",
    "    data = data.iloc[:, :4].to_numpy()\n",
    "    data = np.transpose(data)\n",
    "    # whoTarget intentYN sexYN offensiveYN\n",
    "    np.save(out_path+t, data)"
   ]
  }
 ],
 "metadata": {
  "kernelspec": {
   "display_name": "tf2",
   "language": "python",
   "name": "tf2"
  },
  "language_info": {
   "codemirror_mode": {
    "name": "ipython",
    "version": 3
   },
   "file_extension": ".py",
   "mimetype": "text/x-python",
   "name": "python",
   "nbconvert_exporter": "python",
   "pygments_lexer": "ipython3",
   "version": "3.9.1"
  }
 },
 "nbformat": 4,
 "nbformat_minor": 5
}