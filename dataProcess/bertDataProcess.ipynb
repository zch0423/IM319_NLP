{
 "cells": [
  {
   "cell_type": "code",
   "execution_count": 1,
   "id": "dfe216b0",
   "metadata": {},
   "outputs": [],
   "source": [
    "#coding=utf-8\n",
    "'''\n",
    "    FileName      ：bertDataProcess.ipynb\n",
    "    Author        ：@zch0423\n",
    "    Date          ：Jun 25, 2021\n",
    "    Description   ：\n",
    "'''\n",
    "import jsonlines\n",
    "import numpy as np\n",
    "# import pickle\n",
    "from tqdm import tqdm"
   ]
  },
  {
   "cell_type": "code",
   "execution_count": 2,
   "id": "ad952ee7",
   "metadata": {},
   "outputs": [],
   "source": [
    "path = \"/Users/zch/Desktop/temp.nosync/output_tst.jsonl\""
   ]
  },
  {
   "cell_type": "code",
   "execution_count": 3,
   "id": "0bdd2cc6",
   "metadata": {},
   "outputs": [],
   "source": [
    "def getCLSW2V(sentence):\n",
    "    '''\n",
    "    @Description\n",
    "    获取句子CLS对应的矩阵, 2*768\n",
    "    ------------\n",
    "    @Params\n",
    "    sentence, dict, bert 返回单个句子\n",
    "    ------------\n",
    "    @Returns\n",
    "    array, CLS value of two layers, [最后一层，倒数第二层]\n",
    "    '''\n",
    "    word = sentence[\"features\"][0]\n",
    "    if word[\"token\"] != \"[CLS]\":\n",
    "        raise ValueError(\"不是CLS\")\n",
    "    return np.array([word[\"layers\"][0][\"values\"], word[\"layers\"][1][\"values\"]])    "
   ]
  },
  {
   "cell_type": "code",
   "execution_count": 4,
   "id": "066ade5e",
   "metadata": {},
   "outputs": [],
   "source": [
    "def getAvgW2V(sentence):\n",
    "    '''\n",
    "    @Description\n",
    "    获取句子平均w2v, 2*768\n",
    "    ------------\n",
    "    @Params\n",
    "    sentence, dict\n",
    "    ------------\n",
    "    @Returns\n",
    "    array, [最后一层，倒数第二层]\n",
    "    '''\n",
    "    temp = []\n",
    "    for word in sentence[\"features\"]:\n",
    "        temp.append(np.array([word[\"layers\"][0][\"values\"], word[\"layers\"][1][\"values\"]]))\n",
    "    return np.mean(temp, axis=0)"
   ]
  },
  {
   "cell_type": "code",
   "execution_count": 5,
   "id": "1953655b",
   "metadata": {},
   "outputs": [],
   "source": [
    "def getW2V(path, w2v, outfile):\n",
    "    '''\n",
    "    @Description\n",
    "    获取w2v\n",
    "    ------------\n",
    "    @Params\n",
    "    path, str, jsonlines文件路径\n",
    "    w2v, func, w2v处理方法\n",
    "    outfile, numpy array pickle 保存路径\n",
    "    '''\n",
    "    data = []\n",
    "    with jsonlines.open(path) as reader:\n",
    "        for obj in tqdm(reader):\n",
    "            data.append(w2v(obj))\n",
    "    data = np.array(data)\n",
    "    np.save(outfile, data)\n",
    "    print(data.shape, \"has been saved to \", outfile)"
   ]
  },
  {
   "cell_type": "code",
   "execution_count": 38,
   "id": "bd0d819b",
   "metadata": {},
   "outputs": [
    {
     "name": "stdout",
     "output_type": "stream",
     "text": [
      "768\n"
     ]
    }
   ],
   "source": [
    "# with jsonlines.open(path) as reader:\n",
    "#     for obj in reader:\n",
    "#         print(len(obj[\"features\"][0][\"layers\"][0][\"values\"]))\n",
    "#         break"
   ]
  },
  {
   "cell_type": "code",
   "execution_count": 8,
   "id": "7c5f87d3",
   "metadata": {},
   "outputs": [
    {
     "name": "stderr",
     "output_type": "stream",
     "text": [
      "4696it [00:25, 184.41it/s]\n"
     ]
    },
    {
     "name": "stdout",
     "output_type": "stream",
     "text": [
      "(4696, 2, 768) has been saved to  /Users/zch/Desktop/IM319_NLP.nosync/pre_loaded/CLS_tst.npy\n"
     ]
    }
   ],
   "source": [
    "path_CLS = \"/Users/zch/Desktop/IM319_NLP.nosync/pre_loaded/CLS_tst.npy\"\n",
    "getW2V(path, getCLSW2V, path_CLS)"
   ]
  },
  {
   "cell_type": "code",
   "execution_count": 9,
   "id": "730fecd1",
   "metadata": {},
   "outputs": [
    {
     "name": "stderr",
     "output_type": "stream",
     "text": [
      "4696it [00:32, 146.17it/s]\n"
     ]
    },
    {
     "name": "stdout",
     "output_type": "stream",
     "text": [
      "(4696, 2, 768) has been saved to  /Users/zch/Desktop/IM319_NLP.nosync/pre_loaded/avg_tst.npy\n"
     ]
    }
   ],
   "source": [
    "path_avg = \"/Users/zch/Desktop/IM319_NLP.nosync/pre_loaded/avg_tst.npy\"\n",
    "getW2V(path, getAvgW2V, path_avg)"
   ]
  },
  {
   "cell_type": "code",
   "execution_count": 41,
   "id": "b4ba87c1",
   "metadata": {},
   "outputs": [
    {
     "name": "stdout",
     "output_type": "stream",
     "text": [
      "(35379, 2, 768)\n"
     ]
    }
   ],
   "source": [
    "# test\n",
    "data = np.load(path_CLS)\n",
    "print(data.shape)"
   ]
  },
  {
   "cell_type": "code",
   "execution_count": 42,
   "id": "efcc7c44",
   "metadata": {},
   "outputs": [
    {
     "name": "stdout",
     "output_type": "stream",
     "text": [
      "(35379, 2, 768)\n"
     ]
    }
   ],
   "source": [
    "data = np.load(path_avg)\n",
    "print(data.shape)"
   ]
  },
  {
   "cell_type": "markdown",
   "id": "224a51af",
   "metadata": {},
   "source": [
    "## 保留最后一层"
   ]
  },
  {
   "cell_type": "code",
   "execution_count": 6,
   "id": "2b5217e0",
   "metadata": {},
   "outputs": [],
   "source": [
    "import os\n",
    "dir_path = \"/Users/zch/Desktop/IM319_NLP.nosync/pre_loaded/\""
   ]
  },
  {
   "cell_type": "code",
   "execution_count": 7,
   "id": "06c9f110",
   "metadata": {},
   "outputs": [],
   "source": [
    "def saveLast(infile, outfile):\n",
    "    '''\n",
    "    @Description\n",
    "    保留bert最后一层, 导出到npy\n",
    "    ------------\n",
    "    @Params\n",
    "    infile, str, path for npy\n",
    "    outfile, str\n",
    "    '''\n",
    "    arr = np.load(infile)\n",
    "    arr = np.delete(arr, 1, axis=1)\n",
    "    arr.reshape(arr.shape[0], arr.shape[-1])\n",
    "    np.save(outfile, arr)"
   ]
  },
  {
   "cell_type": "code",
   "execution_count": 10,
   "id": "33e12856",
   "metadata": {},
   "outputs": [],
   "source": [
    "with os.scandir(dir_path) as it:\n",
    "    for entry in it:\n",
    "        if not entry.name.endswith(\"npy\"):\n",
    "            continue\n",
    "        saveLast(entry.path, \"/Users/zch/Desktop/\"+entry.name[:-4]+\"_last.npy\")"
   ]
  },
  {
   "cell_type": "markdown",
   "id": "603bce83",
   "metadata": {},
   "source": [
    "## test"
   ]
  },
  {
   "cell_type": "code",
   "execution_count": 23,
   "id": "9ec5bbc5",
   "metadata": {},
   "outputs": [],
   "source": [
    "infile = \"/Users/zch/Desktop/IM319_NLP.nosync/project/data/w2v/avg.npy\"\n",
    "arr = np.load(infile)\n",
    "arr = np.delete(arr, 1, axis=1)"
   ]
  }
 ],
 "metadata": {
  "kernelspec": {
   "display_name": "tf2",
   "language": "python",
   "name": "tf2"
  },
  "language_info": {
   "codemirror_mode": {
    "name": "ipython",
    "version": 3
   },
   "file_extension": ".py",
   "mimetype": "text/x-python",
   "name": "python",
   "nbconvert_exporter": "python",
   "pygments_lexer": "ipython3",
   "version": "3.7.9"
  }
 },
 "nbformat": 4,
 "nbformat_minor": 5
}