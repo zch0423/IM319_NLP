{
 "metadata": {
  "language_info": {
   "codemirror_mode": {
    "name": "ipython",
    "version": 3
   },
   "file_extension": ".py",
   "mimetype": "text/x-python",
   "name": "python",
   "nbconvert_exporter": "python",
   "pygments_lexer": "ipython3",
   "version": "3.9.1"
  },
  "orig_nbformat": 2,
  "kernelspec": {
   "name": "python3",
   "display_name": "Python 3.9.1 64-bit"
  },
  "interpreter": {
   "hash": "aee8b7b246df8f9039afb4144a1f6fd8d2ca17a180786b69acc140d282b71a49"
  }
 },
 "nbformat": 4,
 "nbformat_minor": 2,
 "cells": [
  {
   "cell_type": "code",
   "execution_count": 20,
   "metadata": {},
   "outputs": [],
   "source": [
    "#coding=utf-8\n",
    "'''\n",
    "    FileName      ：drawBERT.ipynb\n",
    "    Author        ：@zch0423\n",
    "    Date          ：Jun 25, 2021\n",
    "    Description   ：\n",
    "'''\n",
    "import matplotlib.pyplot as plt\n",
    "# from matplotlib.font_manager import FontProperties\n",
    "# zhfont = FontProperties(fname=\"/System/Library/Fonts/PingFang.ttc\")"
   ]
  },
  {
   "cell_type": "code",
   "execution_count": 21,
   "metadata": {},
   "outputs": [],
   "source": [
    "import numpy as np"
   ]
  },
  {
   "cell_type": "code",
   "execution_count": 22,
   "metadata": {},
   "outputs": [],
   "source": [
    "def autolabel(rects, xpos='center'):\n",
    "    \"\"\"\n",
    "    Attach a text label above each bar in *rects*, displaying its height.\n",
    "\n",
    "    *xpos* indicates which side to place the text w.r.t. the center of\n",
    "    the bar. It can be one of the following {'center', 'right', 'left'}.\n",
    "    \"\"\"\n",
    "\n",
    "    xpos = xpos.lower()  # normalize the case of the parameter\n",
    "    ha = {'center': 'center', 'right': 'left', 'left': 'right'}\n",
    "    offset = {'center': 0.5, 'right': 0.57, 'left': 0.43}  # x_txt = x + w*off\n",
    "\n",
    "    for rect in rects:\n",
    "        height = rect.get_height()\n",
    "        ax.text(rect.get_x() + rect.get_width()*offset[xpos], 1.01*height,\n",
    "                '{}'.format(height), ha=ha[xpos], va='bottom')"
   ]
  },
  {
   "cell_type": "code",
   "execution_count": 1,
   "metadata": {},
   "outputs": [],
   "source": [
    "cls_train = [0.7356, 0.8569, 0.9325, 0.8284]\n",
    "cls_test = [0.7628, 0.8665, 0.9344, 0.8387]\n",
    "avg_train = [0.7415, 0.8654, 0.9394, 0.8365]\n",
    "avg_test = [0.7693, 0.8689, 0.9376, 0.8442]\n",
    "ind = np.arange(len(avg_train))  # the x locations for the groups\n",
    "width = 0.35  # the width of the bars\n",
    "fig, ax = plt.subplots(figsize=(10, 7))\n",
    "rects1 = ax.bar(ind - width/2, cls_test, width,\n",
    "                color='SkyBlue', label='CLS')\n",
    "rects2 = ax.bar(ind + width/2, avg_test, width,\n",
    "                color='IndianRed', label='Avg')\n",
    "ax.set_ylabel('Accuracy')\n",
    "ax.set_title('LogisticRegression with BERT Embedding')\n",
    "ax.set_xticks(ind)\n",
    "ax.set_xticklabels([\"Target\", \"Intent\", \"Lewd\", \"Offensive\"])\n",
    "autolabel(rects1, \"left\")\n",
    "autolabel(rects2, \"right\")\n",
    "ax.legend()\n",
    "# plt.savefig(\"/Users/zch/Desktop/lr.jpg\", dpi=200)"
   ]
  },
  {
   "cell_type": "code",
   "execution_count": 2,
   "metadata": {},
   "outputs": [],
   "source": [
    "cls_train = [0.7461,0.8621,0.9228,0.8358]\n",
    "cls_test = [0.7718,0.871,0.9279,0.8417]\n",
    "avg_train = [0.7809,0.8888,0.9398,0.8674]\n",
    "avg_test = [0.7892,0.8757,0.9389,0.8581]\n",
    "ind = np.arange(len(avg_train))  # the x locations for the groups\n",
    "width = 0.35  # the width of the bars\n",
    "fig, ax = plt.subplots(figsize=(10, 7))\n",
    "rects1 = ax.bar(ind - width/2, cls_test, width,\n",
    "                color='SkyBlue', label='CLS')\n",
    "rects2 = ax.bar(ind + width/2, avg_test, width,\n",
    "                color='IndianRed', label='Avg')\n",
    "ax.set_ylabel('Accuracy')\n",
    "ax.set_title('SVM with BERT Embedding')\n",
    "ax.set_xticks(ind)\n",
    "ax.set_xticklabels([\"Target\", \"Intent\", \"Lewd\", \"Offensive\"])\n",
    "autolabel(rects1, \"left\")\n",
    "autolabel(rects2, \"right\")\n",
    "ax.legend()\n",
    "# plt.savefig(\"/Users/zch/Desktop/svm.jpg\", dpi=200)"
   ]
  },
  {
   "cell_type": "code",
   "execution_count": 3,
   "metadata": {},
   "outputs": [],
   "source": [
    "## NN batchsize\n",
    "batchSize = [4,8,16,32,64,128][::-1]\n",
    "train = [0.7861, 0.8482, 0.8312, 0.7707, 0.832, 0.8328][::-1]\n",
    "validation = [0.8, 0.8433, 0.8287, 0.7848, 0.809, 0.8105][::-1]\n",
    "x = np.arange(len(batchSize))\n",
    "fig, ax = plt.subplots()\n",
    "ax.plot(x, train, label=\"Train\")\n",
    "ax.plot(x, validation, label=\"Validation\")\n",
    "ax.set_title(\"Accuracy with Different Batch Size\")\n",
    "ax.set_ylabel(\"Accuracy\")\n",
    "ax.set_xticks(x)\n",
    "ax.set_xticklabels([str(i) for i in batchSize])\n",
    "ax.legend()"
   ]
  }
 ]
}