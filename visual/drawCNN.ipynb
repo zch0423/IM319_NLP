{
 "cells": [
  {
   "cell_type": "code",
   "execution_count": 1,
   "metadata": {},
   "outputs": [],
   "source": [
    "#coding=utf-8\n",
    "'''\n",
    "    FileName      ：drawCNN.py\n",
    "    Author        ：@zch0423\n",
    "    Date          ：Jun 25, 2021\n",
    "    Description   ：\n",
    "'''\n",
    "import matplotlib.pyplot as plt\n",
    "import seaborn as sns"
   ]
  },
  {
   "cell_type": "code",
   "execution_count": 2,
   "metadata": {},
   "outputs": [],
   "source": [
    "import numpy as np"
   ]
  },
  {
   "cell_type": "markdown",
   "metadata": {},
   "source": [
    "## filters"
   ]
  },
  {
   "cell_type": "code",
   "execution_count": 3,
   "metadata": {},
   "outputs": [],
   "source": [
    "filters = [10, 20, 30, 40, 50, 60, 70]\n",
    "off_acc = [0.8071505069732666,\n",
    " 0.8097195386886596,\n",
    " 0.8181545615196228,\n",
    " 0.813102126121521,\n",
    " 0.8124598741531373,\n",
    " 0.8162277817726136,\n",
    " 0.8135731220245361]\n",
    "intent_acc = [0.8205095291137695,\n",
    " 0.8153714418411255,\n",
    " 0.8247056365013122,\n",
    " 0.8159708976745605,\n",
    " 0.8267180562019348,\n",
    " 0.8170841455459594,\n",
    " 0.8171269536018372]\n",
    "\n",
    "# testAcc = 0.8364565372467041\n",
    "sex_acc = [0.9321344375610352, 0.9324341535568237, 0.9333333373069763, 0.933376145362854, 0.9329051613807678, 0.9339327692985535, 0.9311496376991272]\n",
    "target_acc = [0.7848426580429078,\n",
    " 0.771826159954071,\n",
    " 0.7885677695274353,\n",
    " 0.7835581183433533,\n",
    " 0.7793192028999328,\n",
    " 0.7982445001602173,\n",
    " 0.7905801773071289]"
   ]
  },
  {
   "cell_type": "code",
   "execution_count": 1,
   "metadata": {},
   "outputs": [],
   "source": [
    "fig, ax = plt.subplots(figsize=(8, 5))\n",
    "x = np.arange(len(filters))\n",
    "ax.plot(x, off_acc, label=\"Offensive\")\n",
    "ax.plot(x, intent_acc, label=\"Intent\")\n",
    "ax.plot(x, sex_acc, label=\"Lewd\")\n",
    "ax.plot(x, target_acc, label=\"Target\")\n",
    "ax.scatter(2, 0.8181545615196228) # offensive\n",
    "ax.scatter(4, 0.8267180562019348)# intent\n",
    "ax.scatter(5,0.9339327692985535) # lewd\n",
    "ax.scatter(5,0.7982445001602173) # target\n",
    "ax.set_title(\"Filters参数和验证集准确率\")\n",
    "ax.set_xticks(x)\n",
    "ax.set_xlabel(\"Filters\")\n",
    "ax.set_ylabel(\"Validation Set Accuracy\")\n",
    "ax.set_xticklabels([str(i) for i in filters])\n",
    "ax.legend()\n",
    "plt.savefig(\"/Users/zch/Desktop/filters.png\", dpi=400)\n",
    "plt.show()"
   ]
  },
  {
   "cell_type": "markdown",
   "metadata": {},
   "source": [
    "## Kernel MAX_LENGTH"
   ]
  },
  {
   "cell_type": "code",
   "execution_count": 4,
   "metadata": {},
   "outputs": [],
   "source": [
    "intent = [[0.810875601,0.808028257,0.808991647,0.812930852,0.807086265,0.810597301],\n",
    "[0.811560702,0.811624914,0.810897022,0.81119675,0.808606291,0.808734751],\n",
    "[0.813059312,0.81166774,0.816206384,0.811325192,0.807728541,0.806294161],\n",
    "[0.815778202,0.808584887,0.81076858,0.808306563,0.807921219,0.809184331]]\n",
    "lewd = [[0.930764282,0.929907954,0.92905159,0.928280878,0.927638638,0.929608202],\n",
    "[0.936159289,0.929736674,0.929993582,0.929479778,0.928409338,0.929779482],\n",
    "[0.933418977,0.932648253,0.934403777,0.929436958,0.92618283,0.925711846],\n",
    "[0.934789133,0.933376145,0.931706285,0.930421758,0.928023982,0.928923142]]\n",
    "off = [[0.817341053,0.817854846,0.815842426,0.806165707,0.806165707,0.808049655],\n",
    "[0.818454289,0.813273394,0.814729178,0.80308286,0.808092475,0.806294167],\n",
    "[0.810404623,0.818283033,0.806122875,0.80188396,0.803553843,0.79905802],\n",
    "[0.823207021,0.814986086,0.812245762,0.801327348,0.806294167,0.806336975]]\n",
    "target = [[0.802354956,0.803425384,0.786555326,0.764076221,0.781759799,0.785527718],\n",
    "[0.800342548,0.784714198,0.793620217,0.773196316,0.788696206,0.775508451],\n",
    "[0.799614632,0.799443376,0.8027403,0.78852495,0.787154782,0.782787406],\n",
    "[0.803125656,0.789638197,0.78531363,0.784714198,0.789852285,0.778762579]]"
   ]
  },
  {
   "cell_type": "code",
   "execution_count": 5,
   "metadata": {},
   "outputs": [],
   "source": [
    "def drawHeat(data, note):\n",
    "    fig, ax = plt.subplots(figsize=(10, 6))\n",
    "    sns.heatmap(data, ax=ax,cmap=\"Blues\", annot=True)\n",
    "    ax.set_xticklabels([\"2\", \"3\", \"4\", \"5\", \"6\", \"7\"])\n",
    "    ax.set_yticklabels([\"40\", \"50\", \"60\",\"70\"])\n",
    "    ax.set_xlabel(\"Kernel Size\")\n",
    "    ax.set_ylabel(\"Length\")\n",
    "    ax.set_title(\"Kernel Size和Length参数变动及验证集准确率\")\n",
    "    plt.savefig(f\"/Users/zch/Desktop/{note}.png\", dpi=300)\n",
    "    plt.show()"
   ]
  },
  {
   "cell_type": "code",
   "execution_count": 37,
   "metadata": {},
   "outputs": [],
   "source": [
    "# drawHeat(intent, \"intent\")"
   ]
  },
  {
   "cell_type": "code",
   "execution_count": 36,
   "metadata": {},
   "outputs": [],
   "source": [
    "# drawHeat(off, \"off\")"
   ]
  },
  {
   "cell_type": "code",
   "execution_count": 35,
   "metadata": {},
   "outputs": [],
   "source": [
    "# drawHeat(lewd, \"lewd\")"
   ]
  },
  {
   "cell_type": "code",
   "execution_count": 7,
   "metadata": {},
   "outputs": [],
   "source": [
    "# drawHeat(target, \"target\") # TODO"
   ]
  },
  {
   "cell_type": "code",
   "execution_count": 50,
   "metadata": {},
   "outputs": [],
   "source": [
    "def autolabel(rects, xpos='center'):\n",
    "    \"\"\"\n",
    "    Attach a text label above each bar in *rects*, displaying its height.\n",
    "\n",
    "    *xpos* indicates which side to place the text w.r.t. the center of\n",
    "    the bar. It can be one of the following {'center', 'right', 'left'}.\n",
    "    \"\"\"\n",
    "\n",
    "    xpos = xpos.lower()  # normalize the case of the parameter\n",
    "    ha = {'center': 'center', 'right': 'left', 'left': 'right'}\n",
    "    offset = {'center': 0.5, 'right': 0.57, 'left': 0.43}  # x_txt = x + w*off\n",
    "\n",
    "    for rect in rects:\n",
    "        height = rect.get_height()\n",
    "        ax.text(rect.get_x() + rect.get_width()*offset[xpos], 1.01*height,\n",
    "                '{:.4f}'.format(height), ha=ha[xpos], va='bottom')"
   ]
  },
  {
   "cell_type": "code",
   "execution_count": 2,
   "metadata": {},
   "outputs": [],
   "source": [
    "fig, ax = plt.subplots(figsize=(8, 6))\n",
    "labels = [\"Target\", \"Intent\", \"Lewd\", \"Offensive\"]\n",
    "y = [0.803492343, 0.821252126, 0.92951448, 0.817802382]\n",
    "x = np.arange(len(labels))\n",
    "rec = ax.bar(labels, y, width=0.6)\n",
    "autolabel(rec)\n",
    "ax.set_ylabel('Accuracy')\n",
    "ax.set_title('CNN模型测试集准确率')\n",
    "ax.set_xticks(x)\n",
    "ax.set_xticklabels(labels)\n",
    "plt.savefig(\"/Users/zch/Desktop/CNN1.png\", dpi=300)\n",
    "plt.show()"
   ]
  }
 ],
 "metadata": {
  "interpreter": {
   "hash": "bbee7842ce8ba476870a006d5d5b68f11cea175afb0fea017b7f81beccf88892"
  },
  "kernelspec": {
   "name": "python3",
   "display_name": "Python 3.9.1 64-bit"
  },
  "language_info": {
   "codemirror_mode": {
    "name": "ipython",
    "version": 3
   },
   "file_extension": ".py",
   "mimetype": "text/x-python",
   "name": "python",
   "nbconvert_exporter": "python",
   "pygments_lexer": "ipython3",
   "version": "3.9.1"
  }
 },
 "nbformat": 4,
 "nbformat_minor": 2
}